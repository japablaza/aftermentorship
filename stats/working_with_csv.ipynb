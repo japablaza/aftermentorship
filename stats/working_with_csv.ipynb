{
 "cells": [
  {
   "cell_type": "code",
   "execution_count": 30,
   "metadata": {},
   "outputs": [
    {
     "name": "stdout",
     "output_type": "stream",
     "text": [
      "HTTPS-443 CantConnect : 75\n",
      "Ping PingLossPercent : 69\n",
      "HTTP-80 Status : 79\n",
      "Memory Usage PercentSwapUsed : 11\n",
      "Volume CapacityC:\\ PercentUsed : 16\n",
      "Filesystem Capacity/ PercentUsed : 5\n",
      "SPUs-0 PercentCPUUtilization : 12\n",
      "VM Ping PingLossPercent : 2\n",
      "VM HTTP-80 Status : 2\n",
      "ESX Host-10.5.0.25 Uptime : 1\n",
      "ESX Host-69.162.137.250 Uptime : 3\n",
      "Filesystem Capacity/home/vvsv1/public_html/ax_wbm PercentUsed : 1\n",
      "Filesystem Capacity/home/vvsv1/public_html/ax_rco PercentUsed : 1\n",
      "Filesystem Capacity/home/vvsv1/public_html/ax_vnm PercentUsed : 1\n",
      "Filesystem Capacity/home/vvsv1/public_html/ax_sin PercentUsed : 1\n",
      "Filesystem Capacity/home/vvsv1/public_html/ax_vwx PercentUsed : 1\n",
      "Filesystem Capacity/home/vvsv1/public_html/ax_wbg PercentUsed : 1\n",
      "Volume CapacityH:\\ PercentUsed : 2\n",
      "Filesystem Capacity/mnt/tempdrive PercentUsed : 1\n",
      "Number of LogicMonitor tickets: 2483\n",
      "Total number of tickets Nov 2018: 2158\n",
      "LM - critical: 284\n",
      "LM - error: 856\n",
      "LM - warn: 990\n"
     ]
    }
   ],
   "source": [
    "import csv\n",
    "\n",
    "with open('Nov-2018_kayako.csv', mode='r') as csv_file:\n",
    "    csv_reader = csv.DictReader(csv_file)\n",
    "    line_count = 0\n",
    "    alerter_count = 0\n",
    "    critical_count = 0\n",
    "    error_count = 0\n",
    "    warn_count = 0\n",
    "    big_list = []\n",
    "    big_list_critical = []\n",
    "    error_msg_list = []\n",
    "    for row in csv_reader:\n",
    "        if row['Department'] == 'Tech Support':\n",
    "            line_count += 1\n",
    "        if row['Email'] == 'alerter@steadfast.logicmonitor.com':\n",
    "            alerter_count += 1\n",
    "            if 'critical -' in row['Subject']:\n",
    "                critical_count += 1\n",
    "            if 'error -' in row['Subject']:\n",
    "                error_count += 1\n",
    "            if 'warn -' in row['Subject']:\n",
    "                warn_count += 1\n",
    "            if 'LMD' in row['Subject']:\n",
    "                subject = row['Subject'].split(' - ')\n",
    "                if 'critical' in subject[0]:\n",
    "                    big_list_critical.extend(subject)\n",
    "                    host_error_msg = subject[1]\n",
    "                    error_msg = ' '.join(host_error_msg.split()[1:])\n",
    "                    error_msg_list.append(error_msg)\n",
    "            \n",
    "    frec = {}\n",
    "    for i in error_msg_list:\n",
    "        if i in frec:\n",
    "            frec[i] += 1\n",
    "        else:\n",
    "            frec[i] = 1\n",
    "    for k, v in frec.items():\n",
    "        print('%s : %d'%(k, v))\n",
    "    print('Number of LogicMonitor tickets: ' + str(line_count))\n",
    "    print('Total number of tickets Nov 2018: ' + str(alerter_count))\n",
    "    print('LM - critical: ' + str(critical_count))\n",
    "    print('LM - error: ' + str(error_count))\n",
    "    print('LM - warn: ' + str(warn_count))"
   ]
  },
  {
   "cell_type": "code",
   "execution_count": null,
   "metadata": {},
   "outputs": [],
   "source": []
  },
  {
   "cell_type": "code",
   "execution_count": null,
   "metadata": {},
   "outputs": [],
   "source": []
  }
 ],
 "metadata": {
  "kernelspec": {
   "display_name": "Python 3",
   "language": "python",
   "name": "python3"
  },
  "language_info": {
   "codemirror_mode": {
    "name": "ipython",
    "version": 3
   },
   "file_extension": ".py",
   "mimetype": "text/x-python",
   "name": "python",
   "nbconvert_exporter": "python",
   "pygments_lexer": "ipython3",
   "version": "3.7.0"
  }
 },
 "nbformat": 4,
 "nbformat_minor": 2
}
